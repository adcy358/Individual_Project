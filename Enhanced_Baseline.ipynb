{
 "cells": [
  {
   "cell_type": "code",
   "execution_count": 1,
   "id": "20156c1f-1f77-4364-a120-204f33048f73",
   "metadata": {},
   "outputs": [],
   "source": [
    "import argparse\n",
    "import time\n",
    "import numpy as np\n",
    "from dataset import *\n",
    "from models import * \n",
    "from generation import * \n",
    "\n",
    "from torch.utils.data import DataLoader\n",
    "from torch import optim\n",
    "import torch.nn.functional as F\n",
    "from tqdm import tqdm\n",
    "\n",
    "device = torch.device(\"cuda\" if torch.cuda.is_available() else \"cpu\")"
   ]
  },
  {
   "cell_type": "code",
   "execution_count": 2,
   "id": "9e45a30f-848f-423b-bfa4-de13de4fcd07",
   "metadata": {},
   "outputs": [
    {
     "name": "stdout",
     "output_type": "stream",
     "text": [
      "(tensor([2449, 1375,    1,    0,    6,   15, 2450, 2451,    5,   66, 2452,    1,\n",
      "           0,    5, 2453]), tensor([1375,    1,    0,    6,   15, 2450, 2451,    5,   66, 2452,    1,    0,\n",
      "           5, 2453,   24]))\n",
      "Vocab: 7506\n"
     ]
    }
   ],
   "source": [
    "DIR_PATH = \"dataset/poems.csv\"\n",
    "SOV_TOKEN = \"<SOV>\" # start of verse\n",
    "EOV_TOKEN = \"<EOV>\" # end of verse\n",
    "encoder_ckpt = \"saved_models/encoder_18.pt\"\n",
    "decoder_ckpt = \"saved_models/decoder_18.pt\"\n",
    "\n",
    "parser = argparse.ArgumentParser()\n",
    "parser.add_argument('--max_epochs', type=int, default=30)\n",
    "parser.add_argument('--batch_size', type=int, default=128)\n",
    "parser.add_argument('--sequence_length', type=int, default=15)\n",
    "args, unknown = parser.parse_known_args()\n",
    "\n",
    "# Define the dataset and dataloader\n",
    "dataset = SpanishPoemsDataset(DIR_PATH, SOV_TOKEN, EOV_TOKEN, args)\n",
    "dataloader = DataLoader(dataset, batch_size=args.batch_size, shuffle=False)\n",
    "\n",
    "print(dataset.__getitem__(3))\n",
    "print('Vocab:', len(dataset.unique_words))"
   ]
  },
  {
   "cell_type": "markdown",
   "id": "4266bc01-b638-4036-b86f-d8b130304848",
   "metadata": {},
   "source": [
    "**Detailed explanation**\n",
    "\n",
    "The attention mechanism computes an \"energy\" score for each time step in the encoder outputs. To do this, it first repeats the decoder's hidden state along the time dimension to match the sequence length of the encoder outputs. This allows the attention mechanism to compare the decoder's hidden state with each time step's encoder output.\n",
    "\n",
    "The energy score is obtained by concatenating the repeated decoder hidden state and the encoder outputs along the feature dimension. This concatenated tensor is passed through a linear layer (a single-layer neural network) with output size 1, which converts the tensor into a scalar value for each time step.\n",
    "\n",
    "The context vector is the weighted sum of the encoder outputs based on the attention weights. It is computed by element-wise multiplying the attention scores with the encoder outputs and then summing them along the time dimension."
   ]
  },
  {
   "cell_type": "markdown",
   "id": "608cf0e9-a3c4-48c3-ba19-b16f03fc72d9",
   "metadata": {},
   "source": [
    "# TRAINING"
   ]
  },
  {
   "cell_type": "code",
   "execution_count": 3,
   "id": "79a882cc-73ce-4a38-9ce3-27136640501a",
   "metadata": {},
   "outputs": [],
   "source": [
    "# Set hyperparameters\n",
    "\n",
    "input_size = len(dataset.unique_words) # size of the vocabulary for the input sequence\n",
    "output_size = len(dataset.unique_words) # size of the vocabulary for the target sequence\n",
    "hidden_size = 128\n",
    "num_layers = 1\n",
    "batch_size = args.batch_size\n",
    "sequence_length = args.sequence_length\n",
    "num_epochs = args.max_epochs\n",
    "learning_rate = 0.001\n",
    "\n",
    "# Instantiate the encoder and decoder\n",
    "encoder = LSTMEncoder(input_size, hidden_size, num_layers)\n",
    "decoder = GRUDecoderWithAttention(hidden_size, output_size, num_layers)\n",
    "\n",
    "# Define the loss function and optimizer \n",
    "criterion = nn.CrossEntropyLoss()\n",
    "optimizer = optim.Adam(list(encoder.parameters()) + list(decoder.parameters()), lr=learning_rate)"
   ]
  },
  {
   "cell_type": "code",
   "execution_count": 4,
   "id": "6394cadd-34d2-4eb0-bb75-762d44a744a1",
   "metadata": {},
   "outputs": [
    {
     "name": "stderr",
     "output_type": "stream",
     "text": [
      "Epoch 1/30: 100%|██████████| 323/323 [02:29<00:00,  2.16it/s]\n"
     ]
    },
    {
     "name": "stdout",
     "output_type": "stream",
     "text": [
      "Epoch 1/30, Loss: 5.7540\n"
     ]
    },
    {
     "name": "stderr",
     "output_type": "stream",
     "text": [
      "Epoch 2/30: 100%|██████████| 323/323 [02:28<00:00,  2.18it/s]\n"
     ]
    },
    {
     "name": "stdout",
     "output_type": "stream",
     "text": [
      "Epoch 2/30, Loss: 4.8992\n"
     ]
    },
    {
     "name": "stderr",
     "output_type": "stream",
     "text": [
      "Epoch 3/30: 100%|██████████| 323/323 [02:28<00:00,  2.18it/s]\n"
     ]
    },
    {
     "name": "stdout",
     "output_type": "stream",
     "text": [
      "Epoch 3/30, Loss: 4.5008\n"
     ]
    },
    {
     "name": "stderr",
     "output_type": "stream",
     "text": [
      "Epoch 4/30: 100%|██████████| 323/323 [02:27<00:00,  2.20it/s]\n"
     ]
    },
    {
     "name": "stdout",
     "output_type": "stream",
     "text": [
      "Epoch 4/30, Loss: 4.1293\n"
     ]
    },
    {
     "name": "stderr",
     "output_type": "stream",
     "text": [
      "Epoch 5/30: 100%|██████████| 323/323 [02:28<00:00,  2.17it/s]\n"
     ]
    },
    {
     "name": "stdout",
     "output_type": "stream",
     "text": [
      "Epoch 5/30, Loss: 3.8010\n"
     ]
    },
    {
     "name": "stderr",
     "output_type": "stream",
     "text": [
      "Epoch 6/30: 100%|██████████| 323/323 [02:22<00:00,  2.26it/s]\n"
     ]
    },
    {
     "name": "stdout",
     "output_type": "stream",
     "text": [
      "Epoch 6/30, Loss: 3.4974\n"
     ]
    },
    {
     "name": "stderr",
     "output_type": "stream",
     "text": [
      "Epoch 7/30: 100%|██████████| 323/323 [02:24<00:00,  2.24it/s]\n"
     ]
    },
    {
     "name": "stdout",
     "output_type": "stream",
     "text": [
      "Epoch 7/30, Loss: 3.2471\n"
     ]
    },
    {
     "name": "stderr",
     "output_type": "stream",
     "text": [
      "Epoch 8/30: 100%|██████████| 323/323 [02:23<00:00,  2.25it/s]\n"
     ]
    },
    {
     "name": "stdout",
     "output_type": "stream",
     "text": [
      "Epoch 8/30, Loss: 3.0067\n"
     ]
    },
    {
     "name": "stderr",
     "output_type": "stream",
     "text": [
      "Epoch 9/30: 100%|██████████| 323/323 [02:07<00:00,  2.54it/s]\n"
     ]
    },
    {
     "name": "stdout",
     "output_type": "stream",
     "text": [
      "Epoch 9/30, Loss: 2.7293\n"
     ]
    },
    {
     "name": "stderr",
     "output_type": "stream",
     "text": [
      "Epoch 10/30: 100%|██████████| 323/323 [02:06<00:00,  2.54it/s]\n"
     ]
    },
    {
     "name": "stdout",
     "output_type": "stream",
     "text": [
      "Epoch 10/30, Loss: 2.4966\n"
     ]
    },
    {
     "name": "stderr",
     "output_type": "stream",
     "text": [
      "Epoch 11/30: 100%|██████████| 323/323 [02:06<00:00,  2.55it/s]\n"
     ]
    },
    {
     "name": "stdout",
     "output_type": "stream",
     "text": [
      "Epoch 11/30, Loss: 2.2488\n"
     ]
    },
    {
     "name": "stderr",
     "output_type": "stream",
     "text": [
      "Epoch 12/30: 100%|██████████| 323/323 [02:06<00:00,  2.55it/s]\n"
     ]
    },
    {
     "name": "stdout",
     "output_type": "stream",
     "text": [
      "Epoch 12/30, Loss: 2.0059\n"
     ]
    },
    {
     "name": "stderr",
     "output_type": "stream",
     "text": [
      "Epoch 13/30: 100%|██████████| 323/323 [02:06<00:00,  2.55it/s]\n"
     ]
    },
    {
     "name": "stdout",
     "output_type": "stream",
     "text": [
      "Epoch 13/30, Loss: 1.7645\n"
     ]
    },
    {
     "name": "stderr",
     "output_type": "stream",
     "text": [
      "Epoch 14/30: 100%|██████████| 323/323 [02:06<00:00,  2.55it/s]\n"
     ]
    },
    {
     "name": "stdout",
     "output_type": "stream",
     "text": [
      "Epoch 14/30, Loss: 1.5507\n"
     ]
    },
    {
     "name": "stderr",
     "output_type": "stream",
     "text": [
      "Epoch 15/30: 100%|██████████| 323/323 [02:06<00:00,  2.56it/s]\n"
     ]
    },
    {
     "name": "stdout",
     "output_type": "stream",
     "text": [
      "Epoch 15/30, Loss: 1.3672\n"
     ]
    },
    {
     "name": "stderr",
     "output_type": "stream",
     "text": [
      "Epoch 16/30: 100%|██████████| 323/323 [02:06<00:00,  2.56it/s]\n"
     ]
    },
    {
     "name": "stdout",
     "output_type": "stream",
     "text": [
      "Epoch 16/30, Loss: 1.2135\n"
     ]
    },
    {
     "name": "stderr",
     "output_type": "stream",
     "text": [
      "Epoch 17/30: 100%|██████████| 323/323 [02:06<00:00,  2.56it/s]\n"
     ]
    },
    {
     "name": "stdout",
     "output_type": "stream",
     "text": [
      "Epoch 17/30, Loss: 1.0862\n"
     ]
    },
    {
     "name": "stderr",
     "output_type": "stream",
     "text": [
      "Epoch 18/30: 100%|██████████| 323/323 [02:06<00:00,  2.56it/s]\n"
     ]
    },
    {
     "name": "stdout",
     "output_type": "stream",
     "text": [
      "Epoch 18/30, Loss: 0.9743\n"
     ]
    },
    {
     "name": "stderr",
     "output_type": "stream",
     "text": [
      "Epoch 19/30: 100%|██████████| 323/323 [02:05<00:00,  2.56it/s]\n"
     ]
    },
    {
     "name": "stdout",
     "output_type": "stream",
     "text": [
      "Epoch 19/30, Loss: 0.8715\n"
     ]
    },
    {
     "name": "stderr",
     "output_type": "stream",
     "text": [
      "Epoch 20/30: 100%|██████████| 323/323 [02:06<00:00,  2.56it/s]\n"
     ]
    },
    {
     "name": "stdout",
     "output_type": "stream",
     "text": [
      "Epoch 20/30, Loss: 0.7798\n"
     ]
    },
    {
     "name": "stderr",
     "output_type": "stream",
     "text": [
      "Epoch 21/30: 100%|██████████| 323/323 [02:05<00:00,  2.57it/s]\n"
     ]
    },
    {
     "name": "stdout",
     "output_type": "stream",
     "text": [
      "Epoch 21/30, Loss: 0.6919\n"
     ]
    },
    {
     "name": "stderr",
     "output_type": "stream",
     "text": [
      "Epoch 22/30: 100%|██████████| 323/323 [02:05<00:00,  2.57it/s]\n"
     ]
    },
    {
     "name": "stdout",
     "output_type": "stream",
     "text": [
      "Epoch 22/30, Loss: 0.6180\n"
     ]
    },
    {
     "name": "stderr",
     "output_type": "stream",
     "text": [
      "Epoch 23/30: 100%|██████████| 323/323 [02:06<00:00,  2.56it/s]\n"
     ]
    },
    {
     "name": "stdout",
     "output_type": "stream",
     "text": [
      "Epoch 23/30, Loss: 0.6007\n"
     ]
    },
    {
     "name": "stderr",
     "output_type": "stream",
     "text": [
      "Epoch 24/30: 100%|██████████| 323/323 [02:03<00:00,  2.60it/s]\n"
     ]
    },
    {
     "name": "stdout",
     "output_type": "stream",
     "text": [
      "Epoch 24/30, Loss: 0.5216\n"
     ]
    },
    {
     "name": "stderr",
     "output_type": "stream",
     "text": [
      "Epoch 25/30: 100%|██████████| 323/323 [02:04<00:00,  2.60it/s]\n"
     ]
    },
    {
     "name": "stdout",
     "output_type": "stream",
     "text": [
      "Epoch 25/30, Loss: 0.4450\n"
     ]
    },
    {
     "name": "stderr",
     "output_type": "stream",
     "text": [
      "Epoch 26/30: 100%|██████████| 323/323 [02:03<00:00,  2.61it/s]\n"
     ]
    },
    {
     "name": "stdout",
     "output_type": "stream",
     "text": [
      "Epoch 26/30, Loss: 0.3906\n"
     ]
    },
    {
     "name": "stderr",
     "output_type": "stream",
     "text": [
      "Epoch 27/30: 100%|██████████| 323/323 [02:03<00:00,  2.61it/s]\n"
     ]
    },
    {
     "name": "stdout",
     "output_type": "stream",
     "text": [
      "Epoch 27/30, Loss: 0.3443\n"
     ]
    },
    {
     "name": "stderr",
     "output_type": "stream",
     "text": [
      "Epoch 28/30: 100%|██████████| 323/323 [02:03<00:00,  2.61it/s]\n"
     ]
    },
    {
     "name": "stdout",
     "output_type": "stream",
     "text": [
      "Epoch 28/30, Loss: 0.3052\n"
     ]
    },
    {
     "name": "stderr",
     "output_type": "stream",
     "text": [
      "Epoch 29/30: 100%|██████████| 323/323 [02:03<00:00,  2.61it/s]\n"
     ]
    },
    {
     "name": "stdout",
     "output_type": "stream",
     "text": [
      "Epoch 29/30, Loss: 0.2710\n"
     ]
    },
    {
     "name": "stderr",
     "output_type": "stream",
     "text": [
      "Epoch 30/30: 100%|██████████| 323/323 [02:03<00:00,  2.61it/s]"
     ]
    },
    {
     "name": "stdout",
     "output_type": "stream",
     "text": [
      "Epoch 30/30, Loss: 0.2445\n",
      "Elapsed time:  1.093580393128925\n"
     ]
    },
    {
     "name": "stderr",
     "output_type": "stream",
     "text": [
      "\n"
     ]
    }
   ],
   "source": [
    "start_time = time.time()\n",
    "loss_history = []\n",
    "encoder.train()\n",
    "decoder.train()\n",
    "\n",
    "for epoch in range(num_epochs):\n",
    "    total_loss = 0\n",
    "    for batch_inputs, batch_targets in tqdm(dataloader, desc=f\"Epoch {epoch+1}/{num_epochs}\"):\n",
    "        # batch_inputs = batch_inputs\n",
    "        # batch_targets = batch_targets\n",
    "\n",
    "        # Initialize the hidden state and cell state of the encoder\n",
    "        hidden, cell_state = encoder.init_hidden(sequence_length)\n",
    "\n",
    "        # Zero gradients\n",
    "        optimizer.zero_grad()\n",
    "\n",
    "        # Forward pass - Encoder\n",
    "        encoder_outputs, (hidden, cell_state) = encoder(batch_inputs, (hidden, cell_state))  # Updated for LSTM\n",
    "\n",
    "        # Initialize the hidden state of the decoder with the final encoder hidden state\n",
    "        decoder_hidden = hidden[:, 1:sequence_length, :].contiguous()\n",
    "        encoder_outputs = encoder_outputs[:, 1:sequence_length, :].contiguous()\n",
    "        \n",
    "        # Prepare the input and target sequences for the decoder\n",
    "        decoder_inputs = batch_targets[:, :-1]\n",
    "        decoder_targets = batch_targets[:, 1:]\n",
    "        \n",
    "        # Forward pass - Decoder with Attention\n",
    "        decoder_outputs, _, attention_scores = decoder(decoder_inputs, decoder_hidden, encoder_outputs)\n",
    "\n",
    "        # Calculate the loss\n",
    "        loss = criterion(decoder_outputs.reshape(-1, output_size), decoder_targets.reshape(-1))\n",
    "\n",
    "        # Backpropagation\n",
    "        loss.backward()\n",
    "        optimizer.step()\n",
    "\n",
    "        total_loss += loss.item()\n",
    "\n",
    "    # Save the model after each epoch\n",
    "    torch.save(encoder.state_dict(), encoder_ckpt)\n",
    "    torch.save(decoder.state_dict(), decoder_ckpt)\n",
    "\n",
    "    # Print average loss for the epoch\n",
    "    avg_loss = total_loss / len(dataloader)\n",
    "    loss_history.append(avg_loss)\n",
    "    print(f\"Epoch {epoch+1}/{num_epochs}, Loss: {avg_loss:.4f}\")\n",
    "\n",
    "end_time = time.time()\n",
    "elapsed_time = end_time - start_time\n",
    "print(\"Elapsed time: \", elapsed_time/3600) "
   ]
  },
  {
   "cell_type": "code",
   "execution_count": 23,
   "id": "6189acf0-a829-4386-8b31-476e44732376",
   "metadata": {},
   "outputs": [
    {
     "data": {
      "image/png": "[encoded data removed]",
      "text/plain": [
       "<Figure size 720x432 with 1 Axes>"
      ]
     },
     "metadata": {
      "needs_background": "light"
     },
     "output_type": "display_data"
    }
   ],
   "source": [
    "import matplotlib.pyplot as plt\n",
    "import matplotlib as mpl\n",
    "mpl.rcParams['font.size'] = 25\n",
    "plt.figure(figsize=(10,6))\n",
    "plt.plot(range(len(loss_history)), loss_history)\n",
    "plt.xlabel(\"Epoch\")\n",
    "plt.ylabel(\"Loss\")\n",
    "plt.title(\"Encoder: LSTM - Decoder: Attention GRU\")\n",
    "#plt.savefig(\"loss_512.jpg\", bbox_inches='tight')\n",
    "plt.show()"
   ]
  },
  {
   "cell_type": "markdown",
   "id": "a6dce991-fe97-4bc2-96ba-385728e41b90",
   "metadata": {},
   "source": [
    "# GENERATE POEM "
   ]
  },
  {
   "cell_type": "code",
   "execution_count": 62,
   "id": "9d4d96d1-dd3e-4044-a607-248cb9948a06",
   "metadata": {},
   "outputs": [
    {
     "name": "stdout",
     "output_type": "stream",
     "text": [
      "\n",
      "pero ha sido promulgado\n",
      "un ardiente\n",
      "no me deslumbres\n",
      "me entiendes\n",
      "ahora está aquí\n",
      "en nuestro duelo inevitable\n",
      "lo decíamos y queda\n",
      "y me dicen tu boca\n",
      "se evaporó\n",
      "Perplexity:  10.347571543507414\n"
     ]
    }
   ],
   "source": [
    "poem, perplexity = generate_poem_GRU_with_attention(\n",
    "    encoder, decoder, dataset, \n",
    "    0, 1, max_length=45, temperature=0.8, top_k=10, \n",
    "    encoder_ckpt=encoder_ckpt, \n",
    "    decoder_ckpt=decoder_ckpt\n",
    ")\n",
    "\n",
    "\n",
    "print('')\n",
    "print(poem)\n",
    "print('Perplexity: ', perplexity)"
   ]
  }
 ],
 "metadata": {
  "kernelspec": {
   "display_name": "Python 3 (ipykernel)",
   "language": "python",
   "name": "python3"
  },
  "language_info": {
   "codemirror_mode": {
    "name": "ipython",
    "version": 3
   },
   "file_extension": ".py",
   "mimetype": "text/x-python",
   "name": "python",
   "nbconvert_exporter": "python",
   "pygments_lexer": "ipython3",
   "version": "3.9.5"
  }
 },
 "nbformat": 4,
 "nbformat_minor": 5
}
