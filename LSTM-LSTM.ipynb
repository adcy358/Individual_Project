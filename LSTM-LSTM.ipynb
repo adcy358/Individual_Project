{
 "cells": [
  {
   "cell_type": "code",
   "execution_count": 8,
   "id": "20156c1f-1f77-4364-a120-204f33048f73",
   "metadata": {},
   "outputs": [],
   "source": [
    "import argparse\n",
    "import time \n",
    "import numpy as np\n",
    "from dataset import *\n",
    "from models import * \n",
    "from utils import *\n",
    "from generation import *\n",
    "\n",
    "from torch.utils.data import DataLoader\n",
    "from torch import optim\n",
    "import torch.nn.functional as F\n",
    "from tqdm import tqdm\n",
    "\n",
    "device = torch.device(\"cuda\" if torch.cuda.is_available() else \"cpu\")"
   ]
  },
  {
   "cell_type": "code",
   "execution_count": 5,
   "id": "9e45a30f-848f-423b-bfa4-de13de4fcd07",
   "metadata": {},
   "outputs": [
    {
     "name": "stdout",
     "output_type": "stream",
     "text": [
      "(tensor([2449, 1375,    1,    0,    6,   15, 2450, 2451,    5,   66]), tensor([1375,    1,    0,    6,   15, 2450, 2451,    5,   66, 2452]))\n",
      "Vocab: 7506\n"
     ]
    }
   ],
   "source": [
    "DIR_PATH = \"dataset/poems.csv\"\n",
    "SOV_TOKEN = \"<SOV>\" # start of verse\n",
    "EOV_TOKEN = \"<EOV>\" # end of verse\n",
    "encoder_ckpt = \"saved_models/encoder_3.pt\"\n",
    "decoder_ckpt = \"saved_models/decoder_3.pt\"\n",
    "\n",
    "parser = argparse.ArgumentParser()\n",
    "parser.add_argument('--max_epochs', type=int, default=30)\n",
    "parser.add_argument('--batch_size', type=int, default=128)\n",
    "parser.add_argument('--sequence_length', type=int, default=10)\n",
    "args, unknown = parser.parse_known_args()\n",
    "\n",
    "# Define the dataset and dataloader\n",
    "dataset = SpanishPoemsDataset(DIR_PATH, SOV_TOKEN, EOV_TOKEN, args)\n",
    "dataloader = DataLoader(dataset, batch_size=args.batch_size, shuffle=False)\n",
    "\n",
    "print(dataset.__getitem__(3))\n",
    "print('Vocab:', len(dataset.unique_words))"
   ]
  },
  {
   "cell_type": "markdown",
   "id": "608cf0e9-a3c4-48c3-ba19-b16f03fc72d9",
   "metadata": {},
   "source": [
    "# TRAINING"
   ]
  },
  {
   "cell_type": "code",
   "execution_count": 9,
   "id": "79a882cc-73ce-4a38-9ce3-27136640501a",
   "metadata": {},
   "outputs": [],
   "source": [
    "# Set hyperparameters\n",
    "\n",
    "input_size = len(dataset.unique_words) # size of the vocabulary for the input sequence\n",
    "output_size = len(dataset.unique_words) # size of the vocabulary for the target sequence\n",
    "hidden_size = 128\n",
    "num_layers = 1\n",
    "batch_size = args.batch_size\n",
    "sequence_length = args.sequence_length\n",
    "num_epochs = args.max_epochs\n",
    "learning_rate = 0.001\n",
    "save_epochs = 2\n",
    "\n",
    "# Instantiate the encoder and decoder\n",
    "encoder = LSTMEncoder(input_size, hidden_size, num_layers)\n",
    "decoder = LSTMDecoder(hidden_size, output_size, num_layers)\n",
    "\n",
    "# Define the loss function and optimizer \n",
    "criterion = nn.CrossEntropyLoss()\n",
    "optimizer = optim.Adam(list(encoder.parameters()) + list(decoder.parameters()), lr=learning_rate)"
   ]
  },
  {
   "cell_type": "markdown",
   "id": "de25e42e-0f55-482f-af43-804759bce98b",
   "metadata": {},
   "source": [
    "What has changed:\n",
    "\n",
    "- The initialization of the encoder hidden state now includes both the hidden state and the cell state.\n",
    "- The forward pass in the encoder now returns both the updated hidden state and the updated cell state as a tuple.\n",
    "- The initialization of the decoder hidden state now only includes the hidden state, as GRU does not have a cell state.\n",
    "- The forward pass in the decoder remains the same since it is independent of the encoder architecture.\n",
    "- The backward pass and optimization steps remain the same.\n",
    "- The saving of the model after each epoch remains the same.\n",
    "- The average loss calculation and printing also remain the same."
   ]
  },
  {
   "cell_type": "code",
   "execution_count": 10,
   "id": "6394cadd-34d2-4eb0-bb75-762d44a744a1",
   "metadata": {},
   "outputs": [
    {
     "name": "stderr",
     "output_type": "stream",
     "text": [
      "Epoch 1/30: 100%|██████████| 323/323 [01:17<00:00,  4.14it/s]\n"
     ]
    },
    {
     "name": "stdout",
     "output_type": "stream",
     "text": [
      "-> Saving checkpoint\n",
      "Epoch 1/30, Loss: 5.8538\n"
     ]
    },
    {
     "name": "stderr",
     "output_type": "stream",
     "text": [
      "Epoch 2/30: 100%|██████████| 323/323 [01:16<00:00,  4.20it/s]\n"
     ]
    },
    {
     "name": "stdout",
     "output_type": "stream",
     "text": [
      "Epoch 2/30, Loss: 5.1388\n"
     ]
    },
    {
     "name": "stderr",
     "output_type": "stream",
     "text": [
      "Epoch 3/30: 100%|██████████| 323/323 [01:13<00:00,  4.41it/s]\n"
     ]
    },
    {
     "name": "stdout",
     "output_type": "stream",
     "text": [
      "-> Saving checkpoint\n",
      "Epoch 3/30, Loss: 4.8857\n"
     ]
    },
    {
     "name": "stderr",
     "output_type": "stream",
     "text": [
      "Epoch 4/30: 100%|██████████| 323/323 [01:16<00:00,  4.20it/s]\n"
     ]
    },
    {
     "name": "stdout",
     "output_type": "stream",
     "text": [
      "Epoch 4/30, Loss: 4.6343\n"
     ]
    },
    {
     "name": "stderr",
     "output_type": "stream",
     "text": [
      "Epoch 5/30: 100%|██████████| 323/323 [01:12<00:00,  4.44it/s]\n"
     ]
    },
    {
     "name": "stdout",
     "output_type": "stream",
     "text": [
      "-> Saving checkpoint\n",
      "Epoch 5/30, Loss: 4.3911\n"
     ]
    },
    {
     "name": "stderr",
     "output_type": "stream",
     "text": [
      "Epoch 6/30: 100%|██████████| 323/323 [01:16<00:00,  4.21it/s]\n"
     ]
    },
    {
     "name": "stdout",
     "output_type": "stream",
     "text": [
      "Epoch 6/30, Loss: 4.1595\n"
     ]
    },
    {
     "name": "stderr",
     "output_type": "stream",
     "text": [
      "Epoch 7/30: 100%|██████████| 323/323 [01:13<00:00,  4.42it/s]\n"
     ]
    },
    {
     "name": "stdout",
     "output_type": "stream",
     "text": [
      "-> Saving checkpoint\n",
      "Epoch 7/30, Loss: 3.9414\n"
     ]
    },
    {
     "name": "stderr",
     "output_type": "stream",
     "text": [
      "Epoch 8/30: 100%|██████████| 323/323 [01:13<00:00,  4.38it/s]\n"
     ]
    },
    {
     "name": "stdout",
     "output_type": "stream",
     "text": [
      "Epoch 8/30, Loss: 3.7492\n"
     ]
    },
    {
     "name": "stderr",
     "output_type": "stream",
     "text": [
      "Epoch 9/30: 100%|██████████| 323/323 [01:22<00:00,  3.89it/s]\n"
     ]
    },
    {
     "name": "stdout",
     "output_type": "stream",
     "text": [
      "-> Saving checkpoint\n",
      "Epoch 9/30, Loss: 3.5284\n"
     ]
    },
    {
     "name": "stderr",
     "output_type": "stream",
     "text": [
      "Epoch 10/30: 100%|██████████| 323/323 [01:29<00:00,  3.63it/s]\n"
     ]
    },
    {
     "name": "stdout",
     "output_type": "stream",
     "text": [
      "Epoch 10/30, Loss: 3.3574\n"
     ]
    },
    {
     "name": "stderr",
     "output_type": "stream",
     "text": [
      "Epoch 11/30: 100%|██████████| 323/323 [01:23<00:00,  3.87it/s]\n"
     ]
    },
    {
     "name": "stdout",
     "output_type": "stream",
     "text": [
      "-> Saving checkpoint\n",
      "Epoch 11/30, Loss: 3.1519\n"
     ]
    },
    {
     "name": "stderr",
     "output_type": "stream",
     "text": [
      "Epoch 12/30: 100%|██████████| 323/323 [01:28<00:00,  3.63it/s]\n"
     ]
    },
    {
     "name": "stdout",
     "output_type": "stream",
     "text": [
      "Epoch 12/30, Loss: 2.9724\n"
     ]
    },
    {
     "name": "stderr",
     "output_type": "stream",
     "text": [
      "Epoch 13/30: 100%|██████████| 323/323 [01:23<00:00,  3.89it/s]\n"
     ]
    },
    {
     "name": "stdout",
     "output_type": "stream",
     "text": [
      "-> Saving checkpoint\n",
      "Epoch 13/30, Loss: 2.8096\n"
     ]
    },
    {
     "name": "stderr",
     "output_type": "stream",
     "text": [
      "Epoch 14/30: 100%|██████████| 323/323 [01:22<00:00,  3.92it/s]\n"
     ]
    },
    {
     "name": "stdout",
     "output_type": "stream",
     "text": [
      "Epoch 14/30, Loss: 2.6610\n"
     ]
    },
    {
     "name": "stderr",
     "output_type": "stream",
     "text": [
      "Epoch 15/30: 100%|██████████| 323/323 [01:28<00:00,  3.67it/s]\n"
     ]
    },
    {
     "name": "stdout",
     "output_type": "stream",
     "text": [
      "-> Saving checkpoint\n",
      "Epoch 15/30, Loss: 2.5283\n"
     ]
    },
    {
     "name": "stderr",
     "output_type": "stream",
     "text": [
      "Epoch 16/30: 100%|██████████| 323/323 [01:22<00:00,  3.90it/s]\n"
     ]
    },
    {
     "name": "stdout",
     "output_type": "stream",
     "text": [
      "Epoch 16/30, Loss: 2.4047\n"
     ]
    },
    {
     "name": "stderr",
     "output_type": "stream",
     "text": [
      "Epoch 17/30: 100%|██████████| 323/323 [01:28<00:00,  3.64it/s]\n"
     ]
    },
    {
     "name": "stdout",
     "output_type": "stream",
     "text": [
      "-> Saving checkpoint\n",
      "Epoch 17/30, Loss: 2.2750\n"
     ]
    },
    {
     "name": "stderr",
     "output_type": "stream",
     "text": [
      "Epoch 18/30: 100%|██████████| 323/323 [01:22<00:00,  3.91it/s]\n"
     ]
    },
    {
     "name": "stdout",
     "output_type": "stream",
     "text": [
      "Epoch 18/30, Loss: 2.1531\n"
     ]
    },
    {
     "name": "stderr",
     "output_type": "stream",
     "text": [
      "Epoch 19/30: 100%|██████████| 323/323 [01:22<00:00,  3.92it/s]\n"
     ]
    },
    {
     "name": "stdout",
     "output_type": "stream",
     "text": [
      "-> Saving checkpoint\n",
      "Epoch 19/30, Loss: 2.0421\n"
     ]
    },
    {
     "name": "stderr",
     "output_type": "stream",
     "text": [
      "Epoch 20/30: 100%|██████████| 323/323 [01:17<00:00,  4.15it/s]\n"
     ]
    },
    {
     "name": "stdout",
     "output_type": "stream",
     "text": [
      "Epoch 20/30, Loss: 1.9420\n"
     ]
    },
    {
     "name": "stderr",
     "output_type": "stream",
     "text": [
      "Epoch 21/30: 100%|██████████| 323/323 [01:20<00:00,  4.03it/s]\n"
     ]
    },
    {
     "name": "stdout",
     "output_type": "stream",
     "text": [
      "-> Saving checkpoint\n",
      "Epoch 21/30, Loss: 1.8427\n"
     ]
    },
    {
     "name": "stderr",
     "output_type": "stream",
     "text": [
      "Epoch 22/30: 100%|██████████| 323/323 [01:26<00:00,  3.73it/s]\n"
     ]
    },
    {
     "name": "stdout",
     "output_type": "stream",
     "text": [
      "Epoch 22/30, Loss: 1.7532\n"
     ]
    },
    {
     "name": "stderr",
     "output_type": "stream",
     "text": [
      "Epoch 23/30: 100%|██████████| 323/323 [01:30<00:00,  3.58it/s]\n"
     ]
    },
    {
     "name": "stdout",
     "output_type": "stream",
     "text": [
      "-> Saving checkpoint\n",
      "Epoch 23/30, Loss: 1.6629\n"
     ]
    },
    {
     "name": "stderr",
     "output_type": "stream",
     "text": [
      "Epoch 24/30: 100%|██████████| 323/323 [01:21<00:00,  3.98it/s]\n"
     ]
    },
    {
     "name": "stdout",
     "output_type": "stream",
     "text": [
      "Epoch 24/30, Loss: 1.5712\n"
     ]
    },
    {
     "name": "stderr",
     "output_type": "stream",
     "text": [
      "Epoch 25/30: 100%|██████████| 323/323 [01:18<00:00,  4.14it/s]\n"
     ]
    },
    {
     "name": "stdout",
     "output_type": "stream",
     "text": [
      "-> Saving checkpoint\n",
      "Epoch 25/30, Loss: 1.4954\n"
     ]
    },
    {
     "name": "stderr",
     "output_type": "stream",
     "text": [
      "Epoch 26/30: 100%|██████████| 323/323 [01:14<00:00,  4.35it/s]\n"
     ]
    },
    {
     "name": "stdout",
     "output_type": "stream",
     "text": [
      "Epoch 26/30, Loss: 1.4217\n"
     ]
    },
    {
     "name": "stderr",
     "output_type": "stream",
     "text": [
      "Epoch 27/30: 100%|██████████| 323/323 [01:17<00:00,  4.15it/s]\n"
     ]
    },
    {
     "name": "stdout",
     "output_type": "stream",
     "text": [
      "-> Saving checkpoint\n",
      "Epoch 27/30, Loss: 1.3462\n"
     ]
    },
    {
     "name": "stderr",
     "output_type": "stream",
     "text": [
      "Epoch 28/30: 100%|██████████| 323/323 [01:16<00:00,  4.24it/s]\n"
     ]
    },
    {
     "name": "stdout",
     "output_type": "stream",
     "text": [
      "Epoch 28/30, Loss: 1.2786\n"
     ]
    },
    {
     "name": "stderr",
     "output_type": "stream",
     "text": [
      "Epoch 29/30: 100%|██████████| 323/323 [01:14<00:00,  4.32it/s]\n"
     ]
    },
    {
     "name": "stdout",
     "output_type": "stream",
     "text": [
      "-> Saving checkpoint\n",
      "Epoch 29/30, Loss: 1.2156\n"
     ]
    },
    {
     "name": "stderr",
     "output_type": "stream",
     "text": [
      "Epoch 30/30: 100%|██████████| 323/323 [01:21<00:00,  3.96it/s]"
     ]
    },
    {
     "name": "stdout",
     "output_type": "stream",
     "text": [
      "Epoch 30/30, Loss: 1.1566\n",
      "Elapsed time:  0.6731404768096076\n"
     ]
    },
    {
     "name": "stderr",
     "output_type": "stream",
     "text": [
      "\n"
     ]
    }
   ],
   "source": [
    "# Training loop\n",
    "start_time = time.time()\n",
    "loss_history = []\n",
    "encoder.train()\n",
    "decoder.train()\n",
    "\n",
    "for epoch in range(num_epochs):\n",
    "    total_loss = 0\n",
    "    \n",
    "    for batch_inputs, batch_targets in tqdm(dataloader, desc=f\"Epoch {epoch+1}/{num_epochs}\"):\n",
    "        # Initialize the hidden state and cell state of the encoder\n",
    "        hidden, cell_state = encoder.init_hidden(sequence_length)\n",
    "\n",
    "        # Zero gradients\n",
    "        optimizer.zero_grad()\n",
    "\n",
    "        # Forward pass - Encoder\n",
    "        encoder_outputs, (hidden, cell_state) = encoder(batch_inputs, (hidden, cell_state))\n",
    "\n",
    "        # Initialize the hidden state and cell state of the decoder\n",
    "        decoder_hidden = hidden[:, 1:sequence_length, :].contiguous()\n",
    "        decoder_cell_state = cell_state[:, 1:sequence_length, :].contiguous()\n",
    "\n",
    "        # Prepare the input and target sequences for the decoder\n",
    "        decoder_inputs = batch_targets[:, :-1]\n",
    "        decoder_targets = batch_targets[:, 1:]\n",
    "\n",
    "        # Forward pass - Decoder\n",
    "        decoder_outputs, _ = decoder(decoder_inputs, (decoder_hidden, decoder_cell_state))\n",
    "\n",
    "        # Calculate the loss\n",
    "        loss = criterion(decoder_outputs.reshape(-1, output_size), decoder_targets.reshape(-1))\n",
    "\n",
    "        # Backpropagation\n",
    "        loss.backward()\n",
    "        optimizer.step()\n",
    "\n",
    "        total_loss += loss.item()\n",
    "\n",
    "    # Save the model after each epoch\n",
    "    if epoch % save_epochs == 0:\n",
    "        print(\"-> Saving checkpoint\") \n",
    "        torch.save(encoder.state_dict(), encoder_ckpt)\n",
    "        torch.save(decoder.state_dict(), decoder_ckpt)\n",
    "\n",
    "    # Print average loss for the epoch\n",
    "    avg_loss = total_loss / len(dataloader)\n",
    "    loss_history.append(avg_loss)\n",
    "    print(f\"Epoch {epoch+1}/{num_epochs}, Loss: {avg_loss:.4f}\")\n",
    "    \n",
    "end_time = time.time()\n",
    "elapsed_time = end_time - start_time\n",
    "print(\"Elapsed time: \", elapsed_time/3600) "
   ]
  },
  {
   "cell_type": "code",
   "execution_count": 11,
   "id": "0a51f554-774e-4135-b83d-a07a3997ce66",
   "metadata": {},
   "outputs": [
    {
     "data": {
      "image/png": "[encoded data removed]",
      "text/plain": [
       "<Figure size 720x432 with 1 Axes>"
      ]
     },
     "metadata": {
      "needs_background": "light"
     },
     "output_type": "display_data"
    }
   ],
   "source": [
    "import matplotlib.pyplot as plt\n",
    "import matplotlib as mpl\n",
    "mpl.rcParams['font.size'] = 25\n",
    "plt.figure(figsize=(10,6))\n",
    "plt.plot(range(len(loss_history)), loss_history)\n",
    "plt.xlabel(\"Epoch\")\n",
    "plt.ylabel(\"Loss\")\n",
    "plt.title(\"Encoder: LSTM - Decoder: LSTM\")\n",
    "#plt.savefig(\"loss_512.jpg\", bbox_inches='tight')\n",
    "plt.show()"
   ]
  },
  {
   "cell_type": "markdown",
   "id": "a6dce991-fe97-4bc2-96ba-385728e41b90",
   "metadata": {},
   "source": [
    "# GENERATE POEM "
   ]
  },
  {
   "cell_type": "code",
   "execution_count": 17,
   "id": "d9d2eed2-edef-4683-9ba4-691e7604e1b8",
   "metadata": {},
   "outputs": [
    {
     "name": "stdout",
     "output_type": "stream",
     "text": [
      "\n",
      "que se queja los paisajes\n",
      "y tú se va allá a la sangre\n",
      "del lado de pluma\n",
      "paz para el corazón desgarrado\n",
      "de las estrellas que te cases paz para el río\n",
      "y de las horas serenas\n",
      "la\n",
      "Perplexity:  10.238013632137365\n"
     ]
    }
   ],
   "source": [
    "poem, perplexity = generate_poem_LSTM(\n",
    "    encoder, decoder, dataset, \n",
    "    0, 1, max_length=50, temperature=0.8, top_k=10, \n",
    "    encoder_ckpt=encoder_ckpt, \n",
    "    decoder_ckpt=decoder_ckpt\n",
    ")\n",
    "\n",
    "print('')\n",
    "print(poem)\n",
    "print('Perplexity: ', perplexity)"
   ]
  }
 ],
 "metadata": {
  "kernelspec": {
   "display_name": "Python 3 (ipykernel)",
   "language": "python",
   "name": "python3"
  },
  "language_info": {
   "codemirror_mode": {
    "name": "ipython",
    "version": 3
   },
   "file_extension": ".py",
   "mimetype": "text/x-python",
   "name": "python",
   "nbconvert_exporter": "python",
   "pygments_lexer": "ipython3",
   "version": "3.9.5"
  }
 },
 "nbformat": 4,
 "nbformat_minor": 5
}
